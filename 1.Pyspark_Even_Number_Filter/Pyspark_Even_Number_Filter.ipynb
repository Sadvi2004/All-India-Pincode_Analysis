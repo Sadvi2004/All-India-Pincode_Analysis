{
 "cells": [
  {
   "cell_type": "code",
   "execution_count": 1,
   "id": "4b90c636-9d7a-4ecb-b592-bb41d4343516",
   "metadata": {},
   "outputs": [
    {
     "data": {
      "text/html": [
       "\n",
       "        <div>\n",
       "            <p><b>SparkContext</b></p>\n",
       "\n",
       "            <p><a href=\"http://SADVI-DESKTOP:4040\">Spark UI</a></p>\n",
       "\n",
       "            <dl>\n",
       "              <dt>Version</dt>\n",
       "                <dd><code>v4.0.0</code></dd>\n",
       "              <dt>Master</dt>\n",
       "                <dd><code>local[*]</code></dd>\n",
       "              <dt>AppName</dt>\n",
       "                <dd><code>PySparkShell</code></dd>\n",
       "            </dl>\n",
       "        </div>\n",
       "        "
      ],
      "text/plain": [
       "<SparkContext master=local[*] appName=PySparkShell>"
      ]
     },
     "execution_count": 1,
     "metadata": {},
     "output_type": "execute_result"
    }
   ],
   "source": [
    "sc"
   ]
  },
  {
   "cell_type": "code",
   "execution_count": 2,
   "id": "be0ba1f0-9388-49a1-a75f-871ae975805a",
   "metadata": {},
   "outputs": [],
   "source": [
    "import random"
   ]
  },
  {
   "cell_type": "code",
   "execution_count": 3,
   "id": "fea55d4d-4e2a-45cb-bcc3-78baadc27c97",
   "metadata": {},
   "outputs": [
    {
     "name": "stdout",
     "output_type": "stream",
     "text": [
      "Original List:\n",
      "[892, 397, 846, 707, 356, 646, 175, 137, 645, 165, 646, 84, 166, 185, 562, 502, 281, 688, 280, 263, 9, 626, 97, 1000, 824, 925, 32, 590, 474, 388, 606, 462, 926, 203, 215, 930, 574, 228, 321, 647, 675, 279, 419, 438, 508, 147, 772, 391, 558, 381, 262, 739, 488, 145, 136, 458, 720, 346, 534, 644, 244, 570, 847, 768, 912, 585, 51, 467, 982, 748, 738, 987, 681, 652, 610, 535, 680, 245, 739, 462, 681, 135, 66, 265, 947, 326, 897, 677, 778, 128, 95, 800, 845, 12, 767, 46, 964, 349, 202, 166]\n"
     ]
    }
   ],
   "source": [
    " random_numbers = [random.randint(1, 1000) for _ in range(100)]\n",
    " print(\"Original List:\")\n",
    " print(random_numbers)"
   ]
  },
  {
   "cell_type": "code",
   "execution_count": 4,
   "id": "68f9f982-598f-442c-8b73-aa149fefff45",
   "metadata": {},
   "outputs": [],
   "source": [
    "numbers_rdd = sc.parallelize(random_numbers)"
   ]
  },
  {
   "cell_type": "code",
   "execution_count": 5,
   "id": "cfc2ec33-339f-4bb1-94ac-5fda83b1e75d",
   "metadata": {},
   "outputs": [],
   "source": [
    "even_numbers_rdd = numbers_rdd.filter(lambda x: x % 2 == 0)"
   ]
  },
  {
   "cell_type": "code",
   "execution_count": 6,
   "id": "6c09bc39-13f4-4944-b303-38243c90ebb9",
   "metadata": {},
   "outputs": [
    {
     "name": "stdout",
     "output_type": "stream",
     "text": [
      "\n",
      "Even Numbers:\n",
      "[892, 846, 356, 646, 646, 84, 166, 562, 502, 688, 280, 626, 1000, 824, 32, 590, 474, 388, 606, 462, 926, 930, 574, 228, 438, 508, 772, 558, 262, 488, 136, 458, 720, 346, 534, 644, 244, 570, 768, 912, 982, 748, 738, 652, 610, 680, 462, 66, 326, 778, 128, 800, 12, 46, 964, 202, 166]\n"
     ]
    }
   ],
   "source": [
    "even_numbers = even_numbers_rdd.collect()\n",
    "print(\"\\nEven Numbers:\")\n",
    "print(even_numbers)"
   ]
  }
 ],
 "metadata": {
  "kernelspec": {
   "display_name": "Python 3 (ipykernel)",
   "language": "python",
   "name": "python3"
  },
  "language_info": {
   "codemirror_mode": {
    "name": "ipython",
    "version": 3
   },
   "file_extension": ".py",
   "mimetype": "text/x-python",
   "name": "python",
   "nbconvert_exporter": "python",
   "pygments_lexer": "ipython3",
   "version": "3.11.9"
  }
 },
 "nbformat": 4,
 "nbformat_minor": 5
}
